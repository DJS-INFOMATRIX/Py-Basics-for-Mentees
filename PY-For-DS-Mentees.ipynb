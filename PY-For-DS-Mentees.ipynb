{
 "cells": [
  {
   "cell_type": "markdown",
   "metadata": {},
   "source": [
    "# Welcome to PYTHON Basics specially made for Data Science mentees"
   ]
  },
  {
   "cell_type": "code",
   "execution_count": 1,
   "metadata": {},
   "outputs": [
    {
     "name": "stdout",
     "output_type": "stream",
     "text": [
      "I am a Data Science mentee!\n",
      "\n",
      "This is PYTHON for Data Anal-ysis bay bay!\n"
     ]
    }
   ],
   "source": [
    "#Print Commands\n",
    "print(\"I am a Data Science mentee!\\n\")\n",
    "print(\"This is PYTHON for Data Anal-ysis bay bay!\")"
   ]
  },
  {
   "cell_type": "code",
   "execution_count": 31,
   "metadata": {},
   "outputs": [
    {
     "name": "stdout",
     "output_type": "stream",
     "text": [
      "1.25\n"
     ]
    }
   ],
   "source": [
    "#Let's get some arithmetic knowledege YEAAHHH!!\n",
    "a=2.5\n",
    "b=2\n",
    "b=a/b\n",
    "print(b)\n",
    "#Even though b is an integer, it is implicitly converted to a float for the division operation."
   ]
  },
  {
   "cell_type": "code",
   "execution_count": 32,
   "metadata": {},
   "outputs": [
    {
     "data": {
      "text/plain": [
       "'\\na + b\\tAdd a and b\\na - b\\tSubtract b from a\\na * b\\tMultiply a by b\\na / b\\tDivide a by b\\na // b\\tFloor-divide a by b, dropping any fractional remainder\\na ** b\\tRaise a to the b power\\na & b\\tTrue if both a and b are True; for integers, take the bitwise AND\\na | b\\tTrue if either a or b is True; for integers, take the bitwise OR\\na ^ b\\tFor Booleans, True if a or b is True, but not both; for integers, take the bitwise EXCLUSIVE-OR\\na == b\\tTrue if a equals b\\na != b\\tTrue if a is not equal to b\\na < b, a <= b\\tTrue if a is less than (less than or equal to) b\\na > b, a >= b\\tTrue if a is greater than (greater than or equal to) b\\na is b\\tTrue if a and b reference the same Python object\\na is not b\\tTrue if a and b reference different Python objects\\n'"
      ]
     },
     "execution_count": 32,
     "metadata": {},
     "output_type": "execute_result"
    }
   ],
   "source": [
    "'''\n",
    "a + b\tAdd a and b\n",
    "a - b\tSubtract b from a\n",
    "a * b\tMultiply a by b\n",
    "a / b\tDivide a by b\n",
    "a // b\tFloor-divide a by b, dropping any fractional remainder\n",
    "a ** b\tRaise a to the b power\n",
    "a & b\tTrue if both a and b are True; for integers, take the bitwise AND\n",
    "a | b\tTrue if either a or b is True; for integers, take the bitwise OR\n",
    "a ^ b\tFor Booleans, True if a or b is True, but not both; for integers, take the bitwise EXCLUSIVE-OR\n",
    "a == b\tTrue if a equals b\n",
    "a != b\tTrue if a is not equal to b\n",
    "a < b, a <= b\tTrue if a is less than (less than or equal to) b\n",
    "a > b, a >= b\tTrue if a is greater than (greater than or equal to) b\n",
    "a is b\tTrue if a and b reference the same Python object\n",
    "a is not b\tTrue if a and b reference different Python objects\n",
    "'''"
   ]
  },
  {
   "cell_type": "code",
   "execution_count": 22,
   "metadata": {},
   "outputs": [
    {
     "name": "stdout",
     "output_type": "stream",
     "text": [
      "[1, 2, 3]\n",
      "[1, 2, 3, 4]\n"
     ]
    }
   ],
   "source": [
    "a = [1, 2, 3]\n",
    "b=a\n",
    "print(b)\n",
    "a.append(4) # Append Values to any list\n",
    "print(b)\n",
    "#Displays Python's ability to assign data types automatically i.e Two references for the same object"
   ]
  },
  {
   "cell_type": "code",
   "execution_count": 27,
   "metadata": {},
   "outputs": [
    {
     "name": "stdout",
     "output_type": "stream",
     "text": [
      "<class 'list'>\n",
      "<class 'str'>\n",
      "a is <class 'list'>, D is <class 'str'>\n"
     ]
    },
    {
     "data": {
      "text/plain": [
       "'\\nWhat this f before \"\" in print does is assigns value to {} wherever it is used. Like type(a) was in {} so f knew it had to assign result\\nof type(a) in that location\\n'"
      ]
     },
     "execution_count": 27,
     "metadata": {},
     "output_type": "execute_result"
    }
   ],
   "source": [
    "a = [1, 2, 3]\n",
    "print(type(a))\n",
    "D=\"DJSanghvi\"\n",
    "print(type(D))\n",
    "print(f\"a is {type(a)}, D is {type(D)}\")\n",
    "'''\n",
    "What this f before \"\" in print does is assigns value to {} wherever it is used. Like type(a) was in {} so f knew it had to assign result\n",
    "of type(a) in that location\n",
    "'''"
   ]
  },
  {
   "cell_type": "markdown",
   "metadata": {},
   "source": [
    "## Few Examples of py features"
   ]
  },
  {
   "cell_type": "code",
   "execution_count": 35,
   "metadata": {},
   "outputs": [
    {
     "name": "stdout",
     "output_type": "stream",
     "text": [
      "this is a string\n",
      "bad boys?\n"
     ]
    }
   ],
   "source": [
    "a = \"this is a string\"\n",
    "b = a.replace(\"this is a string\",\"bad boys?\")\n",
    "print(a)\n",
    "print(b)"
   ]
  },
  {
   "cell_type": "code",
   "execution_count": 36,
   "metadata": {},
   "outputs": [
    {
     "name": "stdout",
     "output_type": "stream",
     "text": [
      "['p', 'y', 't', 'h', 'o', 'n']\n",
      "pyt\n"
     ]
    }
   ],
   "source": [
    "s = \"python\"\n",
    "print(list(s))\n",
    "print(s[:3])"
   ]
  },
  {
   "cell_type": "markdown",
   "metadata": {},
   "source": [
    "## Formatting - Py's version for %d used by C"
   ]
  },
  {
   "cell_type": "code",
   "execution_count": 45,
   "metadata": {},
   "outputs": [
    {
     "name": "stdout",
     "output_type": "stream",
     "text": [
      "10 Pesos is worth US$0.011163953825886976\n"
     ]
    }
   ],
   "source": [
    "amount = 10\n",
    "rate = 895.74\n",
    "currency = \"Pesos\"\n",
    "result = f\"{amount} {currency} is worth US${amount / rate}\"\n",
    "print(result)"
   ]
  },
  {
   "cell_type": "code",
   "execution_count": 42,
   "metadata": {},
   "outputs": [
    {
     "name": "stdout",
     "output_type": "stream",
     "text": [
      "895.74 Argentine Pesos are worth US$1\n"
     ]
    }
   ],
   "source": [
    "template = \"{0:.2f} {1:s} are worth US${2:d}\"\n",
    "#{0:.2f} means to format the first argument as a floating-point number with two decimal places.\n",
    "#{1:s} means to format the second argument as a string.\n",
    "#{2:d} means to format the third argument as an exact integer.\n",
    "#Example\n",
    "print(template.format(895.74, \"Argentine Pesos\", 1))"
   ]
  },
  {
   "cell_type": "markdown",
   "metadata": {},
   "source": [
    "# If-Else in PY"
   ]
  },
  {
   "cell_type": "code",
   "execution_count": 65,
   "metadata": {},
   "outputs": [
    {
     "name": "stdout",
     "output_type": "stream",
     "text": [
      "Positive and larger than or equal to 5\n"
     ]
    }
   ],
   "source": [
    "x=int(input(\"Enter the number.\"))\n",
    "\n",
    "if x < 0:\n",
    "    print(\"It's negative\")\n",
    "elif x == 0:\n",
    "    print(\"Equal to zero\")\n",
    "elif 0 < x < 5:\n",
    "    print(\"Positive but smaller than 5\")\n",
    "else:\n",
    "    print(\"Positive and larger than or equal to 5\")"
   ]
  },
  {
   "cell_type": "markdown",
   "metadata": {},
   "source": [
    "# Basic For Loop in PY"
   ]
  },
  {
   "cell_type": "code",
   "execution_count": 17,
   "metadata": {},
   "outputs": [
    {
     "name": "stdout",
     "output_type": "stream",
     "text": [
      "Elements less than 0.5 : [0.1, 0.4, 0.22, 0.35]\n",
      "Elements greater than or equal to 0.5 : [0.66, 0.87]\n"
     ]
    }
   ],
   "source": [
    "x=[0.1,0.4,0.22,0.66,0.35,0.87]\n",
    "pivot=0.5\n",
    "\n",
    "less=[]\n",
    "greater=[]\n",
    "\n",
    "for value in x:\n",
    "  if value < pivot:\n",
    "    less.append(value)\n",
    "  else:\n",
    "    greater.append(value)\n",
    "\n",
    "print(\"Elements less than\", pivot, \":\", less)\n",
    "print(\"Elements greater than or equal to\", pivot, \":\", greater)\n"
   ]
  },
  {
   "cell_type": "code",
   "execution_count": 67,
   "metadata": {},
   "outputs": [
    {
     "name": "stdout",
     "output_type": "stream",
     "text": [
      "13\n"
     ]
    }
   ],
   "source": [
    "sequence = [1, 2, 0, 4, 6, 5, 2, 1]\n",
    "total_until_5 = 0\n",
    "for value in sequence:\n",
    "    if value == 5:\n",
    "        break\n",
    "    total_until_5 += value\n",
    "\n",
    "print(total_until_5)"
   ]
  },
  {
   "cell_type": "markdown",
   "metadata": {},
   "source": [
    "# How can we make a custom function in Python?"
   ]
  },
  {
   "cell_type": "code",
   "execution_count": 11,
   "metadata": {},
   "outputs": [
    {
     "name": "stdout",
     "output_type": "stream",
     "text": [
      "165\n"
     ]
    }
   ],
   "source": [
    "def add_numbers(a, b):\n",
    "    \"\"\"\n",
    "    Add two numbers together\n",
    "    Returns the_sum\n",
    "    \"\"\"\n",
    "    return a + b\n",
    "\n",
    "x=69\n",
    "y=96\n",
    "res = add_numbers(x,y)\n",
    "print(res)\n"
   ]
  },
  {
   "cell_type": "markdown",
   "metadata": {},
   "source": [
    "# Comment kaise daalu yaar:)"
   ]
  },
  {
   "cell_type": "code",
   "execution_count": 18,
   "metadata": {},
   "outputs": [
    {
     "data": {
      "text/plain": [
       "'\\nThis is how we write a mutli-line comment.\\nNow since I am in a comment section, lemme tell you something broda.\\nMost used PY Libraries for DS are Numpy,Pandas, Matplotlib.\\nNumpy - Used for handling arrays\\nPandas - Used for handling Dataframes & performing preprocessing actions\\nMatplotlib - Used for plotting graphs and doing analysis\\n\\nHow to use the functions in a library?\\nlibraryName.function() is the method to use an in-built function.\\n'"
      ]
     },
     "execution_count": 18,
     "metadata": {},
     "output_type": "execute_result"
    }
   ],
   "source": [
    "#Comment hehe\n",
    "'''\n",
    "This is how we write a mutli-line comment.\n",
    "Now since I am in a comment section, lemme tell you something broda.\n",
    "Most used PY Libraries for DS are Numpy,Pandas, Matplotlib.\n",
    "Numpy - Used for handling arrays\n",
    "Pandas - Used for handling Dataframes & performing preprocessing actions\n",
    "Matplotlib - Used for plotting graphs and doing analysis\n",
    "\n",
    "How to use the functions in a library?\n",
    "libraryName.function() is the method to use an in-built function.\n",
    "'''"
   ]
  },
  {
   "cell_type": "markdown",
   "metadata": {},
   "source": [
    "# Importing Libraries in Python"
   ]
  },
  {
   "cell_type": "code",
   "execution_count": 8,
   "metadata": {},
   "outputs": [
    {
     "name": "stdout",
     "output_type": "stream",
     "text": [
      "[0.2389136806953318, 0.5952894727990811, -1.380115321665853, 0.18464323927458223, 0.8328296703765309, -0.06611801173929895, 0.9680868241695101]\n"
     ]
    }
   ],
   "source": [
    "#This is a single line comment\n",
    "#Below I'm importing Numpy Library\n",
    "import numpy as np\n",
    "data = [np.random.standard_normal() for i in range(7)]\n",
    "#Generates random floating points from a normal distribution(will be taught in maths in future)\n",
    "print(data)"
   ]
  },
  {
   "cell_type": "code",
   "execution_count": 63,
   "metadata": {},
   "outputs": [
    {
     "name": "stdout",
     "output_type": "stream",
     "text": [
      "29\n",
      "30\n",
      "2011-10-29\n",
      "20:30:21\n",
      "2011-10-29 20:30:21\n",
      "2011-11-15 22:30:00\n",
      "17 days, 1:59:39\n"
     ]
    }
   ],
   "source": [
    "#Now this is something new, take a look up real-close\n",
    "from datetime import datetime, date, time\n",
    "dt = datetime(2011, 10, 29, 20, 30, 21)\n",
    "print(dt.day)\n",
    "print(dt.minute)\n",
    "print(dt.date())\n",
    "print(dt.time())\n",
    "print(dt)\n",
    "#Interesting isn't it\n",
    "dt2 = datetime(2011, 11, 15, 22, 30)\n",
    "print(dt2)\n",
    "delta = dt2 - dt\n",
    "print(delta)"
   ]
  },
  {
   "cell_type": "markdown",
   "metadata": {},
   "source": [
    "# Tuple:\n",
    " - A tuple is a fixed-length, immutable sequence of Python objects which, once assigned, cannot be changed."
   ]
  },
  {
   "cell_type": "code",
   "execution_count": 70,
   "metadata": {},
   "outputs": [
    {
     "name": "stdout",
     "output_type": "stream",
     "text": [
      "(4, 5, 6)\n",
      "('s', 't', 'r', 'i', 'n', 'g')\n",
      "4\n",
      "((4, 5, 6), (7, 8))\n"
     ]
    }
   ],
   "source": [
    "tup = (4, 5, 6)\n",
    "tup2 = tuple('string')\n",
    "print(tup)\n",
    "print(tup2)\n",
    "print(tup[0])"
   ]
  },
  {
   "cell_type": "code",
   "execution_count": 71,
   "metadata": {},
   "outputs": [
    {
     "name": "stdout",
     "output_type": "stream",
     "text": [
      "((4, 5, 6), (7, 8))\n",
      "(4, 5, 6)\n",
      "(7, 8)\n"
     ]
    }
   ],
   "source": [
    "nested_tup = (4, 5, 6), (7, 8)\n",
    "print(nested_tup)\n",
    "print(nested_tup[0])\n",
    "print(nested_tup[1])"
   ]
  },
  {
   "cell_type": "markdown",
   "metadata": {},
   "source": [
    " - If an object inside a tuple is mutable, such as a list"
   ]
  },
  {
   "cell_type": "code",
   "execution_count": 72,
   "metadata": {},
   "outputs": [
    {
     "name": "stdout",
     "output_type": "stream",
     "text": [
      "[1, 2, 3]\n"
     ]
    }
   ],
   "source": [
    "tup = tuple(['foo', [1, 2], True])\n",
    "tup[1].append(3)\n",
    "print(tup[1])\n"
   ]
  },
  {
   "cell_type": "markdown",
   "metadata": {},
   "source": [
    "# LIST\n",
    "- In contrast with tuples, lists are variable length and their contents can be modified in place. Lists are mutable."
   ]
  },
  {
   "cell_type": "code",
   "execution_count": 74,
   "metadata": {},
   "outputs": [
    {
     "name": "stdout",
     "output_type": "stream",
     "text": [
      "['foo', 'bar', 'baz']\n"
     ]
    }
   ],
   "source": [
    "tup = (\"foo\", \"bar\", \"baz\")\n",
    "b_list = list(tup)\n",
    "print(b_list)"
   ]
  },
  {
   "cell_type": "code",
   "execution_count": null,
   "metadata": {},
   "outputs": [],
   "source": []
  }
 ],
 "metadata": {
  "kernelspec": {
   "display_name": "Python 3",
   "language": "python",
   "name": "python3"
  },
  "language_info": {
   "codemirror_mode": {
    "name": "ipython",
    "version": 3
   },
   "file_extension": ".py",
   "mimetype": "text/x-python",
   "name": "python",
   "nbconvert_exporter": "python",
   "pygments_lexer": "ipython3",
   "version": "3.12.3"
  }
 },
 "nbformat": 4,
 "nbformat_minor": 2
}
