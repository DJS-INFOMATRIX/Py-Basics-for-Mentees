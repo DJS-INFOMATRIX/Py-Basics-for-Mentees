{
 "cells": [
  {
   "cell_type": "markdown",
   "metadata": {},
   "source": [
    "Welcome to PYTHON Basics specially made for Data Science mentees"
   ]
  },
  {
   "cell_type": "code",
   "execution_count": 1,
   "metadata": {},
   "outputs": [
    {
     "name": "stdout",
     "output_type": "stream",
     "text": [
      "I am a Data Science mentee!\n",
      "\n",
      "This is PYTHON for Data Anal-ysis bay bay!\n"
     ]
    }
   ],
   "source": [
    "#Print Commands\n",
    "print(\"I am a Data Science mentee!\\n\")\n",
    "print(\"This is PYTHON for Data Anal-ysis bay bay!\")"
   ]
  },
  {
   "cell_type": "markdown",
   "metadata": {},
   "source": [
    "Basic For Loop in PY"
   ]
  },
  {
   "cell_type": "code",
   "execution_count": 17,
   "metadata": {},
   "outputs": [
    {
     "name": "stdout",
     "output_type": "stream",
     "text": [
      "Elements less than 0.5 : [0.1, 0.4, 0.22, 0.35]\n",
      "Elements greater than or equal to 0.5 : [0.66, 0.87]\n"
     ]
    }
   ],
   "source": [
    "x=[0.1,0.4,0.22,0.66,0.35,0.87]\n",
    "pivot=0.5\n",
    "\n",
    "less=[]\n",
    "greater=[]\n",
    "\n",
    "for value in x:\n",
    "  if value < pivot:\n",
    "    less.append(value)\n",
    "  else:\n",
    "    greater.append(value)\n",
    "\n",
    "print(\"Elements less than\", pivot, \":\", less)\n",
    "print(\"Elements greater than or equal to\", pivot, \":\", greater)\n"
   ]
  },
  {
   "cell_type": "markdown",
   "metadata": {},
   "source": [
    "How can we make a custom function in Python?"
   ]
  },
  {
   "cell_type": "code",
   "execution_count": 11,
   "metadata": {},
   "outputs": [
    {
     "name": "stdout",
     "output_type": "stream",
     "text": [
      "165\n"
     ]
    }
   ],
   "source": [
    "def add_numbers(a, b):\n",
    "    \"\"\"\n",
    "    Add two numbers together\n",
    "    Returns the_sum\n",
    "    \"\"\"\n",
    "    return a + b\n",
    "\n",
    "x=69\n",
    "y=96\n",
    "res = add_numbers(x,y)\n",
    "print(res)\n"
   ]
  },
  {
   "cell_type": "markdown",
   "metadata": {},
   "source": [
    "Comment kaise daalu yaar:)"
   ]
  },
  {
   "cell_type": "code",
   "execution_count": 18,
   "metadata": {},
   "outputs": [
    {
     "data": {
      "text/plain": [
       "'\\nThis is how we write a mutli-line comment.\\nNow since I am in a comment section, lemme tell you something broda.\\nMost used PY Libraries for DS are Numpy,Pandas, Matplotlib.\\nNumpy - Used for handling arrays\\nPandas - Used for handling Dataframes & performing preprocessing actions\\nMatplotlib - Used for plotting graphs and doing analysis\\n\\nHow to use the functions in a library?\\nlibraryName.function() is the method to use an in-built function.\\n'"
      ]
     },
     "execution_count": 18,
     "metadata": {},
     "output_type": "execute_result"
    }
   ],
   "source": [
    "#Comment hehe\n",
    "'''\n",
    "This is how we write a mutli-line comment.\n",
    "Now since I am in a comment section, lemme tell you something broda.\n",
    "Most used PY Libraries for DS are Numpy,Pandas, Matplotlib.\n",
    "Numpy - Used for handling arrays\n",
    "Pandas - Used for handling Dataframes & performing preprocessing actions\n",
    "Matplotlib - Used for plotting graphs and doing analysis\n",
    "\n",
    "How to use the functions in a library?\n",
    "libraryName.function() is the method to use an in-built function.\n",
    "'''"
   ]
  },
  {
   "cell_type": "markdown",
   "metadata": {},
   "source": [
    "Importing Libraries in Python"
   ]
  },
  {
   "cell_type": "code",
   "execution_count": 8,
   "metadata": {},
   "outputs": [
    {
     "name": "stdout",
     "output_type": "stream",
     "text": [
      "[0.2389136806953318, 0.5952894727990811, -1.380115321665853, 0.18464323927458223, 0.8328296703765309, -0.06611801173929895, 0.9680868241695101]\n"
     ]
    }
   ],
   "source": [
    "#This is a single line comment\n",
    "#Below I'm importing Numpy Library\n",
    "import numpy as np\n",
    "data = [np.random.standard_normal() for i in range(7)]\n",
    "#Generates random floating points from a normal distribution(will be taught in maths in future)\n",
    "print(data)"
   ]
  },
  {
   "cell_type": "code",
   "execution_count": null,
   "metadata": {},
   "outputs": [],
   "source": []
  }
 ],
 "metadata": {
  "kernelspec": {
   "display_name": "Python 3",
   "language": "python",
   "name": "python3"
  },
  "language_info": {
   "codemirror_mode": {
    "name": "ipython",
    "version": 3
   },
   "file_extension": ".py",
   "mimetype": "text/x-python",
   "name": "python",
   "nbconvert_exporter": "python",
   "pygments_lexer": "ipython3",
   "version": "3.12.3"
  }
 },
 "nbformat": 4,
 "nbformat_minor": 2
}
