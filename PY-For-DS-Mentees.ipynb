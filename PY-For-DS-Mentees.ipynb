{
 "cells": [
  {
   "cell_type": "markdown",
   "metadata": {},
   "source": [
    "Welcome to PYTHON Basics specially made for Data Science mentees"
   ]
  },
  {
   "cell_type": "code",
   "execution_count": 1,
   "metadata": {},
   "outputs": [
    {
     "name": "stdout",
     "output_type": "stream",
     "text": [
      "I am a Data Science mentee!\n",
      "\n",
      "This is PYTHON for Data Anal-ysis bay bay!\n"
     ]
    }
   ],
   "source": [
    "#Print Commands\n",
    "print(\"I am a Data Science mentee!\\n\")\n",
    "print(\"This is PYTHON for Data Anal-ysis bay bay!\")"
   ]
  },
  {
   "cell_type": "code",
   "execution_count": 31,
   "metadata": {},
   "outputs": [
    {
     "name": "stdout",
     "output_type": "stream",
     "text": [
      "1.25\n"
     ]
    }
   ],
   "source": [
    "#Let's get some arithmetic knowledege YEAAHHH!!\n",
    "a=2.5\n",
    "b=2\n",
    "b=a/b\n",
    "print(b)\n",
    "#Even though b is an integer, it is implicitly converted to a float for the division operation."
   ]
  },
  {
   "cell_type": "code",
   "execution_count": 32,
   "metadata": {},
   "outputs": [
    {
     "data": {
      "text/plain": [
       "'\\na + b\\tAdd a and b\\na - b\\tSubtract b from a\\na * b\\tMultiply a by b\\na / b\\tDivide a by b\\na // b\\tFloor-divide a by b, dropping any fractional remainder\\na ** b\\tRaise a to the b power\\na & b\\tTrue if both a and b are True; for integers, take the bitwise AND\\na | b\\tTrue if either a or b is True; for integers, take the bitwise OR\\na ^ b\\tFor Booleans, True if a or b is True, but not both; for integers, take the bitwise EXCLUSIVE-OR\\na == b\\tTrue if a equals b\\na != b\\tTrue if a is not equal to b\\na < b, a <= b\\tTrue if a is less than (less than or equal to) b\\na > b, a >= b\\tTrue if a is greater than (greater than or equal to) b\\na is b\\tTrue if a and b reference the same Python object\\na is not b\\tTrue if a and b reference different Python objects\\n'"
      ]
     },
     "execution_count": 32,
     "metadata": {},
     "output_type": "execute_result"
    }
   ],
   "source": [
    "'''\n",
    "a + b\tAdd a and b\n",
    "a - b\tSubtract b from a\n",
    "a * b\tMultiply a by b\n",
    "a / b\tDivide a by b\n",
    "a // b\tFloor-divide a by b, dropping any fractional remainder\n",
    "a ** b\tRaise a to the b power\n",
    "a & b\tTrue if both a and b are True; for integers, take the bitwise AND\n",
    "a | b\tTrue if either a or b is True; for integers, take the bitwise OR\n",
    "a ^ b\tFor Booleans, True if a or b is True, but not both; for integers, take the bitwise EXCLUSIVE-OR\n",
    "a == b\tTrue if a equals b\n",
    "a != b\tTrue if a is not equal to b\n",
    "a < b, a <= b\tTrue if a is less than (less than or equal to) b\n",
    "a > b, a >= b\tTrue if a is greater than (greater than or equal to) b\n",
    "a is b\tTrue if a and b reference the same Python object\n",
    "a is not b\tTrue if a and b reference different Python objects\n",
    "'''"
   ]
  },
  {
   "cell_type": "code",
   "execution_count": 22,
   "metadata": {},
   "outputs": [
    {
     "name": "stdout",
     "output_type": "stream",
     "text": [
      "[1, 2, 3]\n",
      "[1, 2, 3, 4]\n"
     ]
    }
   ],
   "source": [
    "a = [1, 2, 3]\n",
    "b=a\n",
    "print(b)\n",
    "a.append(4) # Append Values to any list\n",
    "print(b)\n",
    "#Displays Python's ability to assign data types automatically i.e Two references for the same object"
   ]
  },
  {
   "cell_type": "code",
   "execution_count": 27,
   "metadata": {},
   "outputs": [
    {
     "name": "stdout",
     "output_type": "stream",
     "text": [
      "<class 'list'>\n",
      "<class 'str'>\n",
      "a is <class 'list'>, D is <class 'str'>\n"
     ]
    },
    {
     "data": {
      "text/plain": [
       "'\\nWhat this f before \"\" in print does is assigns value to {} wherever it is used. Like type(a) was in {} so f knew it had to assign result\\nof type(a) in that location\\n'"
      ]
     },
     "execution_count": 27,
     "metadata": {},
     "output_type": "execute_result"
    }
   ],
   "source": [
    "a = [1, 2, 3]\n",
    "print(type(a))\n",
    "D=\"DJSanghvi\"\n",
    "print(type(D))\n",
    "print(f\"a is {type(a)}, D is {type(D)}\")\n",
    "'''\n",
    "What this f before \"\" in print does is assigns value to {} wherever it is used. Like type(a) was in {} so f knew it had to assign result\n",
    "of type(a) in that location\n",
    "'''"
   ]
  },
  {
   "cell_type": "markdown",
   "metadata": {},
   "source": [
    "Basic For Loop in PY"
   ]
  },
  {
   "cell_type": "code",
   "execution_count": 17,
   "metadata": {},
   "outputs": [
    {
     "name": "stdout",
     "output_type": "stream",
     "text": [
      "Elements less than 0.5 : [0.1, 0.4, 0.22, 0.35]\n",
      "Elements greater than or equal to 0.5 : [0.66, 0.87]\n"
     ]
    }
   ],
   "source": [
    "x=[0.1,0.4,0.22,0.66,0.35,0.87]\n",
    "pivot=0.5\n",
    "\n",
    "less=[]\n",
    "greater=[]\n",
    "\n",
    "for value in x:\n",
    "  if value < pivot:\n",
    "    less.append(value)\n",
    "  else:\n",
    "    greater.append(value)\n",
    "\n",
    "print(\"Elements less than\", pivot, \":\", less)\n",
    "print(\"Elements greater than or equal to\", pivot, \":\", greater)\n"
   ]
  },
  {
   "cell_type": "markdown",
   "metadata": {},
   "source": [
    "How can we make a custom function in Python?"
   ]
  },
  {
   "cell_type": "code",
   "execution_count": 11,
   "metadata": {},
   "outputs": [
    {
     "name": "stdout",
     "output_type": "stream",
     "text": [
      "165\n"
     ]
    }
   ],
   "source": [
    "def add_numbers(a, b):\n",
    "    \"\"\"\n",
    "    Add two numbers together\n",
    "    Returns the_sum\n",
    "    \"\"\"\n",
    "    return a + b\n",
    "\n",
    "x=69\n",
    "y=96\n",
    "res = add_numbers(x,y)\n",
    "print(res)\n"
   ]
  },
  {
   "cell_type": "markdown",
   "metadata": {},
   "source": [
    "Comment kaise daalu yaar:)"
   ]
  },
  {
   "cell_type": "code",
   "execution_count": 18,
   "metadata": {},
   "outputs": [
    {
     "data": {
      "text/plain": [
       "'\\nThis is how we write a mutli-line comment.\\nNow since I am in a comment section, lemme tell you something broda.\\nMost used PY Libraries for DS are Numpy,Pandas, Matplotlib.\\nNumpy - Used for handling arrays\\nPandas - Used for handling Dataframes & performing preprocessing actions\\nMatplotlib - Used for plotting graphs and doing analysis\\n\\nHow to use the functions in a library?\\nlibraryName.function() is the method to use an in-built function.\\n'"
      ]
     },
     "execution_count": 18,
     "metadata": {},
     "output_type": "execute_result"
    }
   ],
   "source": [
    "#Comment hehe\n",
    "'''\n",
    "This is how we write a mutli-line comment.\n",
    "Now since I am in a comment section, lemme tell you something broda.\n",
    "Most used PY Libraries for DS are Numpy,Pandas, Matplotlib.\n",
    "Numpy - Used for handling arrays\n",
    "Pandas - Used for handling Dataframes & performing preprocessing actions\n",
    "Matplotlib - Used for plotting graphs and doing analysis\n",
    "\n",
    "How to use the functions in a library?\n",
    "libraryName.function() is the method to use an in-built function.\n",
    "'''"
   ]
  },
  {
   "cell_type": "markdown",
   "metadata": {},
   "source": [
    "Importing Libraries in Python"
   ]
  },
  {
   "cell_type": "code",
   "execution_count": 8,
   "metadata": {},
   "outputs": [
    {
     "name": "stdout",
     "output_type": "stream",
     "text": [
      "[0.2389136806953318, 0.5952894727990811, -1.380115321665853, 0.18464323927458223, 0.8328296703765309, -0.06611801173929895, 0.9680868241695101]\n"
     ]
    }
   ],
   "source": [
    "#This is a single line comment\n",
    "#Below I'm importing Numpy Library\n",
    "import numpy as np\n",
    "data = [np.random.standard_normal() for i in range(7)]\n",
    "#Generates random floating points from a normal distribution(will be taught in maths in future)\n",
    "print(data)"
   ]
  }
 ],
 "metadata": {
  "kernelspec": {
   "display_name": "Python 3",
   "language": "python",
   "name": "python3"
  },
  "language_info": {
   "codemirror_mode": {
    "name": "ipython",
    "version": 3
   },
   "file_extension": ".py",
   "mimetype": "text/x-python",
   "name": "python",
   "nbconvert_exporter": "python",
   "pygments_lexer": "ipython3",
   "version": "3.12.3"
  }
 },
 "nbformat": 4,
 "nbformat_minor": 2
}
