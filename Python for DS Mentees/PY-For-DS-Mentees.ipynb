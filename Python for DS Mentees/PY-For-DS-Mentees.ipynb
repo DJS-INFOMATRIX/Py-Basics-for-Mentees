{
 "cells": [
  {
   "cell_type": "markdown",
   "metadata": {},
   "source": [
    "# Welcome to **Python Basics** specially made for Data Science mentees"
   ]
  },
  {
   "cell_type": "code",
   "execution_count": 1,
   "metadata": {},
   "outputs": [
    {
     "name": "stdout",
     "output_type": "stream",
     "text": [
      "I am a Data Science mentee!\n",
      "\n",
      "This is PYTHON for Data Anal-ysis bay bay!\n"
     ]
    }
   ],
   "source": [
    "#Print Commands\n",
    "print(\"I am a Data Science mentee!\\n\")\n",
    "print(\"This is PYTHON for Data Anal-ysis bay bay!\")"
   ]
  },
  {
   "cell_type": "code",
   "execution_count": 2,
   "metadata": {},
   "outputs": [
    {
     "name": "stdout",
     "output_type": "stream",
     "text": [
      "1.25\n"
     ]
    }
   ],
   "source": [
    "#Let's get some arithmetic knowledege YEAAHHH!!\n",
    "a=2.5\n",
    "b=2\n",
    "b=a/b\n",
    "print(b)\n",
    "#Even though b is an integer, it is implicitly converted to a float for the division operation."
   ]
  },
  {
   "cell_type": "code",
   "execution_count": 3,
   "metadata": {},
   "outputs": [
    {
     "data": {
      "text/plain": [
       "'\\na + b\\tAdd a and b\\na - b\\tSubtract b from a\\na * b\\tMultiply a by b\\na / b\\tDivide a by b\\na // b\\tFloor-divide a by b, dropping any fractional remainder\\na ** b\\tRaise a to the b power\\na & b\\tTrue if both a and b are True; for integers, take the bitwise AND\\na | b\\tTrue if either a or b is True; for integers, take the bitwise OR\\na ^ b\\tFor Booleans, True if a or b is True, but not both; for integers, take the bitwise EXCLUSIVE-OR\\na == b\\tTrue if a equals b\\na != b\\tTrue if a is not equal to b\\na < b, a <= b\\tTrue if a is less than (less than or equal to) b\\na > b, a >= b\\tTrue if a is greater than (greater than or equal to) b\\na is b\\tTrue if a and b reference the same Python object\\na is not b\\tTrue if a and b reference different Python objects\\n'"
      ]
     },
     "execution_count": 3,
     "metadata": {},
     "output_type": "execute_result"
    }
   ],
   "source": [
    "'''\n",
    "a + b\tAdd a and b\n",
    "a - b\tSubtract b from a\n",
    "a * b\tMultiply a by b\n",
    "a / b\tDivide a by b\n",
    "a // b\tFloor-divide a by b, dropping any fractional remainder\n",
    "a ** b\tRaise a to the b power\n",
    "a & b\tTrue if both a and b are True; for integers, take the bitwise AND\n",
    "a | b\tTrue if either a or b is True; for integers, take the bitwise OR\n",
    "a ^ b\tFor Booleans, True if a or b is True, but not both; for integers, take the bitwise EXCLUSIVE-OR\n",
    "a == b\tTrue if a equals b\n",
    "a != b\tTrue if a is not equal to b\n",
    "a < b, a <= b\tTrue if a is less than (less than or equal to) b\n",
    "a > b, a >= b\tTrue if a is greater than (greater than or equal to) b\n",
    "a is b\tTrue if a and b reference the same Python object\n",
    "a is not b\tTrue if a and b reference different Python objects\n",
    "'''"
   ]
  },
  {
   "cell_type": "code",
   "execution_count": 4,
   "metadata": {},
   "outputs": [
    {
     "name": "stdout",
     "output_type": "stream",
     "text": [
      "[1, 2, 3]\n",
      "[1, 2, 3, 4]\n"
     ]
    }
   ],
   "source": [
    "a = [1, 2, 3]\n",
    "b=a\n",
    "print(b)\n",
    "a.append(4) # Append Values to any list\n",
    "print(b)\n",
    "#Displays Python's ability to assign data types automatically i.e Two references for the same object"
   ]
  },
  {
   "cell_type": "code",
   "execution_count": 5,
   "metadata": {},
   "outputs": [
    {
     "name": "stdout",
     "output_type": "stream",
     "text": [
      "<class 'list'>\n",
      "<class 'str'>\n",
      "a is <class 'list'>, D is <class 'str'>\n"
     ]
    },
    {
     "data": {
      "text/plain": [
       "'\\nWhat this f before \"\" in print does is assigns value to {} wherever it is used. Like type(a) was in {} so f knew it had to assign result\\nof type(a) in that location\\n'"
      ]
     },
     "execution_count": 5,
     "metadata": {},
     "output_type": "execute_result"
    }
   ],
   "source": [
    "a = [1, 2, 3]\n",
    "print(type(a))\n",
    "D=\"DJSanghvi\"\n",
    "print(type(D))\n",
    "print(f\"a is {type(a)}, D is {type(D)}\")\n",
    "'''\n",
    "What this f before \"\" in print does is assigns value to {} wherever it is used. Like type(a) was in {} so f knew it had to assign result\n",
    "of type(a) in that location\n",
    "'''"
   ]
  },
  {
   "cell_type": "markdown",
   "metadata": {},
   "source": [
    "## Few Examples of py features"
   ]
  },
  {
   "cell_type": "code",
   "execution_count": 6,
   "metadata": {},
   "outputs": [
    {
     "name": "stdout",
     "output_type": "stream",
     "text": [
      "this is a string\n",
      "bad boys?\n"
     ]
    }
   ],
   "source": [
    "a = \"this is a string\"\n",
    "b = a.replace(\"this is a string\",\"bad boys?\")\n",
    "print(a)\n",
    "print(b)"
   ]
  },
  {
   "cell_type": "code",
   "execution_count": 7,
   "metadata": {},
   "outputs": [
    {
     "name": "stdout",
     "output_type": "stream",
     "text": [
      "['p', 'y', 't', 'h', 'o', 'n']\n",
      "pyt\n"
     ]
    }
   ],
   "source": [
    "s = \"python\"\n",
    "print(list(s))\n",
    "print(s[:3])"
   ]
  },
  {
   "cell_type": "markdown",
   "metadata": {},
   "source": [
    "## Formatting - Py's version for %d used by C"
   ]
  },
  {
   "cell_type": "code",
   "execution_count": 8,
   "metadata": {},
   "outputs": [
    {
     "name": "stdout",
     "output_type": "stream",
     "text": [
      "10 Pesos is worth US$0.011163953825886976\n"
     ]
    }
   ],
   "source": [
    "amount = 10\n",
    "rate = 895.74\n",
    "currency = \"Pesos\"\n",
    "result = f\"{amount} {currency} is worth US${amount / rate}\"\n",
    "print(result)"
   ]
  },
  {
   "cell_type": "code",
   "execution_count": 9,
   "metadata": {},
   "outputs": [
    {
     "name": "stdout",
     "output_type": "stream",
     "text": [
      "895.74 Argentine Pesos are worth US$1\n"
     ]
    }
   ],
   "source": [
    "template = \"{0:.2f} {1:s} are worth US${2:d}\"\n",
    "#{0:.2f} means to format the first argument as a floating-point number with two decimal places.\n",
    "#{1:s} means to format the second argument as a string.\n",
    "#{2:d} means to format the third argument as an exact integer.\n",
    "#Example\n",
    "print(template.format(895.74, \"Argentine Pesos\", 1))"
   ]
  },
  {
   "cell_type": "markdown",
   "metadata": {},
   "source": [
    "# If-Else Loops"
   ]
  },
  {
   "cell_type": "code",
   "execution_count": 10,
   "metadata": {},
   "outputs": [
    {
     "name": "stdout",
     "output_type": "stream",
     "text": [
      "Positive and larger than or equal to 5\n"
     ]
    }
   ],
   "source": [
    "x=int(input(\"Enter the number.\"))\n",
    "\n",
    "if x < 0:\n",
    "    print(\"It's negative\")\n",
    "elif x == 0:\n",
    "    print(\"Equal to zero\")\n",
    "elif 0 < x < 5:\n",
    "    print(\"Positive but smaller than 5\")\n",
    "else:\n",
    "    print(\"Positive and larger than or equal to 5\")"
   ]
  },
  {
   "cell_type": "markdown",
   "metadata": {},
   "source": [
    "# Basic For Loops"
   ]
  },
  {
   "cell_type": "code",
   "execution_count": 11,
   "metadata": {},
   "outputs": [
    {
     "name": "stdout",
     "output_type": "stream",
     "text": [
      "Elements less than 0.5 : [0.1, 0.4, 0.22, 0.35]\n",
      "Elements greater than or equal to 0.5 : [0.66, 0.87]\n"
     ]
    }
   ],
   "source": [
    "x=[0.1,0.4,0.22,0.66,0.35,0.87]\n",
    "pivot=0.5\n",
    "\n",
    "less=[]\n",
    "greater=[]\n",
    "\n",
    "for value in x:\n",
    "  if value < pivot:\n",
    "    less.append(value)\n",
    "  else:\n",
    "    greater.append(value)\n",
    "\n",
    "print(\"Elements less than\", pivot, \":\", less)\n",
    "print(\"Elements greater than or equal to\", pivot, \":\", greater)\n"
   ]
  },
  {
   "cell_type": "code",
   "execution_count": 12,
   "metadata": {},
   "outputs": [
    {
     "name": "stdout",
     "output_type": "stream",
     "text": [
      "13\n"
     ]
    }
   ],
   "source": [
    "sequence = [1, 2, 0, 4, 6, 5, 2, 1]\n",
    "total_until_5 = 0\n",
    "for value in sequence:\n",
    "    if value == 5:\n",
    "        break\n",
    "    total_until_5 += value\n",
    "\n",
    "print(total_until_5)"
   ]
  },
  {
   "cell_type": "markdown",
   "metadata": {},
   "source": [
    "# Agar merko custom function chahiye toh kya karu?"
   ]
  },
  {
   "cell_type": "code",
   "execution_count": 13,
   "metadata": {},
   "outputs": [
    {
     "name": "stdout",
     "output_type": "stream",
     "text": [
      "165\n"
     ]
    }
   ],
   "source": [
    "def add_numbers(a, b):\n",
    "    \"\"\"\n",
    "    Add two numbers together\n",
    "    Returns the_sum\n",
    "    \"\"\"\n",
    "    return a + b\n",
    "\n",
    "x=69\n",
    "y=96\n",
    "res = add_numbers(x,y)\n",
    "print(res)\n"
   ]
  },
  {
   "cell_type": "markdown",
   "metadata": {},
   "source": [
    "# Comment kaise daalu yaar:)"
   ]
  },
  {
   "cell_type": "code",
   "execution_count": 14,
   "metadata": {},
   "outputs": [
    {
     "data": {
      "text/plain": [
       "'\\nThis is how we write a mutli-line comment.\\nNow since I am in a comment section, lemme tell you something broda.\\nMost used PY Libraries for DS are Numpy,Pandas, Matplotlib.\\nNumpy - Used for handling arrays\\nPandas - Used for handling Dataframes & performing preprocessing actions\\nMatplotlib - Used for plotting graphs and doing analysis\\n\\nHow to use the functions in a library?\\nlibraryName.function() is the method to use an in-built function.\\n'"
      ]
     },
     "execution_count": 14,
     "metadata": {},
     "output_type": "execute_result"
    }
   ],
   "source": [
    "#Comment hehe\n",
    "'''\n",
    "This is how we write a mutli-line comment.\n",
    "Now since I am in a comment section, lemme tell you something broda.\n",
    "Most used PY Libraries for DS are Numpy,Pandas, Matplotlib.\n",
    "Numpy - Used for handling arrays\n",
    "Pandas - Used for handling Dataframes & performing preprocessing actions\n",
    "Matplotlib - Used for plotting graphs and doing analysis\n",
    "\n",
    "How to use the functions in a library?\n",
    "libraryName.function() is the method to use an in-built function.\n",
    "'''"
   ]
  },
  {
   "cell_type": "markdown",
   "metadata": {},
   "source": [
    "# Importing Libraries in Python"
   ]
  },
  {
   "cell_type": "code",
   "execution_count": 15,
   "metadata": {},
   "outputs": [
    {
     "name": "stdout",
     "output_type": "stream",
     "text": [
      "[0.5877314942828819, -1.0499526691165504, -1.4765974627579226, 0.6064192108314015, 0.12482447504007817, -0.17777318288135935, -0.576601301723856]\n"
     ]
    }
   ],
   "source": [
    "#This is a single line comment\n",
    "#Below I'm importing Numpy Library\n",
    "import numpy as np\n",
    "data = [np.random.standard_normal() for i in range(7)]\n",
    "#Generates random floating points from a normal distribution(will be taught in maths in future)\n",
    "print(data)"
   ]
  },
  {
   "cell_type": "code",
   "execution_count": 16,
   "metadata": {},
   "outputs": [
    {
     "name": "stdout",
     "output_type": "stream",
     "text": [
      "29\n",
      "30\n",
      "2011-10-29\n",
      "20:30:21\n",
      "2011-10-29 20:30:21\n",
      "2011-11-15 22:30:00\n",
      "17 days, 1:59:39\n"
     ]
    }
   ],
   "source": [
    "#Now this is something new, take a look up real-close\n",
    "from datetime import datetime, date, time\n",
    "dt = datetime(2011, 10, 29, 20, 30, 21)\n",
    "print(dt.day)\n",
    "print(dt.minute)\n",
    "print(dt.date())\n",
    "print(dt.time())\n",
    "print(dt)\n",
    "#Interesting isn't it\n",
    "dt2 = datetime(2011, 11, 15, 22, 30)\n",
    "print(dt2)\n",
    "delta = dt2 - dt\n",
    "print(delta)"
   ]
  },
  {
   "cell_type": "markdown",
   "metadata": {},
   "source": [
    "# Tuple\n",
    " - A tuple is a fixed-length, immutable sequence of Python objects which, once assigned, cannot be changed."
   ]
  },
  {
   "cell_type": "code",
   "execution_count": 17,
   "metadata": {},
   "outputs": [
    {
     "name": "stdout",
     "output_type": "stream",
     "text": [
      "(4, 5, 6)\n",
      "('s', 't', 'r', 'i', 'n', 'g')\n",
      "4\n"
     ]
    }
   ],
   "source": [
    "tup = (4, 5, 6)\n",
    "tup2 = tuple('string')\n",
    "print(tup)\n",
    "print(tup2)\n",
    "print(tup[0])"
   ]
  },
  {
   "cell_type": "code",
   "execution_count": 18,
   "metadata": {},
   "outputs": [
    {
     "name": "stdout",
     "output_type": "stream",
     "text": [
      "((4, 5, 6), (7, 8))\n",
      "(4, 5, 6)\n",
      "(7, 8)\n"
     ]
    }
   ],
   "source": [
    "nested_tup = (4, 5, 6), (7, 8)\n",
    "print(nested_tup)\n",
    "print(nested_tup[0])\n",
    "print(nested_tup[1])"
   ]
  },
  {
   "cell_type": "markdown",
   "metadata": {},
   "source": [
    " - If an object inside a tuple is mutable, such as a list"
   ]
  },
  {
   "cell_type": "code",
   "execution_count": 19,
   "metadata": {},
   "outputs": [
    {
     "name": "stdout",
     "output_type": "stream",
     "text": [
      "[1, 2, 3]\n"
     ]
    }
   ],
   "source": [
    "tup = tuple(['foo', [1, 2], True])\n",
    "tup[1].append(3)\n",
    "print(tup[1])\n"
   ]
  },
  {
   "cell_type": "markdown",
   "metadata": {},
   "source": [
    "# List\n",
    "- In contrast with tuples, lists are variable length and their contents can be modified in place. Lists are mutable."
   ]
  },
  {
   "cell_type": "code",
   "execution_count": 20,
   "metadata": {},
   "outputs": [
    {
     "name": "stdout",
     "output_type": "stream",
     "text": [
      "['foo', 'bar', 'baz']\n"
     ]
    }
   ],
   "source": [
    "tup = (\"foo\", \"bar\", \"baz\")\n",
    "b_list = list(tup)\n",
    "print(b_list)"
   ]
  },
  {
   "cell_type": "code",
   "execution_count": 21,
   "metadata": {},
   "outputs": [
    {
     "name": "stdout",
     "output_type": "stream",
     "text": [
      "['foo', 'red', 'bar', 'baz']\n",
      "['foo', 'red', 'baz']\n"
     ]
    }
   ],
   "source": [
    "b_list.insert(1, \"red\")\n",
    "print(b_list)\n",
    "b_list.pop(2)\n",
    "print(b_list)"
   ]
  },
  {
   "cell_type": "markdown",
   "metadata": {},
   "source": [
    "- Slicing. Imp thing which'll be often used to select chosen stuff out of a data.(YAAD RAKHO ISEY!)"
   ]
  },
  {
   "cell_type": "code",
   "execution_count": 22,
   "metadata": {},
   "outputs": [
    {
     "name": "stdout",
     "output_type": "stream",
     "text": [
      "[2, 3, 7, 5]\n"
     ]
    }
   ],
   "source": [
    "seq = [7, 2, 3, 7, 5, 6, 0, 1]\n",
    "print(seq[1:5])"
   ]
  },
  {
   "cell_type": "code",
   "execution_count": 23,
   "metadata": {},
   "outputs": [
    {
     "name": "stdout",
     "output_type": "stream",
     "text": [
      "[7, 2, 3, 6, 3, 6, 0, 1]\n"
     ]
    }
   ],
   "source": [
    "seq[3:5] = [6, 3]\n",
    "print(seq)"
   ]
  },
  {
   "cell_type": "markdown",
   "metadata": {},
   "source": [
    "- Slicing Working"
   ]
  },
  {
   "cell_type": "code",
   "execution_count": 24,
   "metadata": {},
   "outputs": [
    {
     "data": {
      "image/png": "[encoded data removed]",
      "text/plain": [
       "<IPython.core.display.Image object>"
      ]
     },
     "execution_count": 24,
     "metadata": {},
     "output_type": "execute_result"
    }
   ],
   "source": [
    "from IPython.display import Image\n",
    "Image(filename=\"pda3_0301.png\")"
   ]
  },
  {
   "cell_type": "markdown",
   "metadata": {},
   "source": [
    "- A step can also be used after a second colon to, say, take every other element"
   ]
  },
  {
   "cell_type": "code",
   "execution_count": 25,
   "metadata": {},
   "outputs": [
    {
     "data": {
      "text/plain": [
       "[7, 3, 3, 0]"
      ]
     },
     "execution_count": 25,
     "metadata": {},
     "output_type": "execute_result"
    }
   ],
   "source": [
    "seq[::2]"
   ]
  },
  {
   "cell_type": "markdown",
   "metadata": {},
   "source": [
    "# Dictionary\n",
    "- The dictionary or dict may be the most important built-in Python data structure. \n",
    "- In other programming languages, dictionaries are sometimes called hash maps or associative arrays. \n",
    "- A dictionary stores a collection of key-value pairs, where key and value are Python objects. \n",
    "- Each key is associated with a value so that a value can be conveniently retrieved, inserted, modified, or deleted given a particular key."
   ]
  },
  {
   "cell_type": "code",
   "execution_count": 26,
   "metadata": {},
   "outputs": [
    {
     "name": "stdout",
     "output_type": "stream",
     "text": [
      "{'a': 'some value', 'b': [1, 2, 3, 4]}\n",
      "{'a': 'some value', 'b': [1, 2, 3, 4], 7: 'an integer'}\n",
      "{'b': [1, 2, 3, 4], 7: 'an integer'}\n",
      "{'b': 'foo', 7: 'an integer', 'c': 12}\n"
     ]
    }
   ],
   "source": [
    "d1 = {\"a\": \"some value\", \"b\": [1, 2, 3, 4]}\n",
    "print(d1)\n",
    "\n",
    "d1[7] = \"an integer\"\n",
    "print(d1)\n",
    "\n",
    "ret = d1.pop(\"a\")\n",
    "print(d1)\n",
    "\n",
    "d1.update({\"b\": \"foo\", \"c\": 12})\n",
    "print(d1)"
   ]
  },
  {
   "cell_type": "markdown",
   "metadata": {},
   "source": [
    "- bc sab mai hi batau kya khud observe karo ye cell ab"
   ]
  },
  {
   "cell_type": "code",
   "execution_count": 27,
   "metadata": {},
   "outputs": [
    {
     "name": "stdout",
     "output_type": "stream",
     "text": [
      "<zip object at 0x00000241FE625580>\n",
      "{0: 4, 1: 3, 2: 2, 3: 1, 4: 0}\n"
     ]
    }
   ],
   "source": [
    "mapping = {}\n",
    "tuples = zip(range(5), reversed(range(5)))\n",
    "print(tuples)\n",
    "\n",
    "key_list = list(range(5))\n",
    "value_list = list(reversed(range(5)))\n",
    "\n",
    "for key, value in zip(key_list, value_list):\n",
    "  mapping[key] = value\n",
    "\n",
    "mapping = dict(tuples)\n",
    "print(mapping)\n"
   ]
  },
  {
   "cell_type": "markdown",
   "metadata": {},
   "source": [
    "- kya samjha batao baadme, also is there some mistake in this?\n",
    "- dekh dekh dekh kese mistake dhundra hai\n",
    "- chod ab chal aage"
   ]
  },
  {
   "cell_type": "markdown",
   "metadata": {},
   "source": [
    "# Built-In Sequence Functions\n",
    "1. enumerate: It’s common when iterating over a sequence to want to keep track of the index of the current item.\n",
    "2. sorted: "
   ]
  },
  {
   "cell_type": "code",
   "execution_count": 28,
   "metadata": {},
   "outputs": [
    {
     "data": {
      "text/plain": [
       "[0, 1, 2, 2, 3, 6, 7]"
      ]
     },
     "execution_count": 28,
     "metadata": {},
     "output_type": "execute_result"
    }
   ],
   "source": [
    "sorted([7, 1, 2, 6, 0, 3, 2])"
   ]
  },
  {
   "cell_type": "markdown",
   "metadata": {},
   "source": [
    "3. zip: “pairs” up the elements of a number of lists, tuples, or other sequences to create a list of tuples"
   ]
  },
  {
   "cell_type": "code",
   "execution_count": 29,
   "metadata": {},
   "outputs": [
    {
     "name": "stdout",
     "output_type": "stream",
     "text": [
      "[('foo', 'one'), ('bar', 'two'), ('baz', 'three')]\n"
     ]
    }
   ],
   "source": [
    "seq1 = [\"foo\", \"bar\", \"baz\"]\n",
    "seq2 = [\"one\", \"two\", \"three\"]\n",
    "zipped = zip(seq1, seq2)\n",
    "print(list(zipped))"
   ]
  },
  {
   "cell_type": "markdown",
   "metadata": {},
   "source": [
    "4. Anonymous (Lambda) Functions\n",
    "- Python has support for so-called anonymous or lambda functions, which are a way of writing functions consisting of a single statement, the result of which is the return value. \n",
    "- They are defined with the lambda keyword, which has no meaning other than “we are declaring an anonymous function”"
   ]
  },
  {
   "cell_type": "code",
   "execution_count": 30,
   "metadata": {},
   "outputs": [],
   "source": [
    "def short_function(x):\n",
    "    return x*2\n",
    "\n",
    "#OR\n",
    "\n",
    "equiv_anon = lambda x: x * 2\n",
    "\n",
    "#Now you only decide what is shorter...."
   ]
  },
  {
   "cell_type": "code",
   "execution_count": 31,
   "metadata": {},
   "outputs": [
    {
     "name": "stdout",
     "output_type": "stream",
     "text": [
      "['aaaa', 'foo', 'abab', 'bar', 'card']\n"
     ]
    }
   ],
   "source": [
    "strings = [\"foo\", \"card\", \"bar\", \"aaaa\", \"abab\"]\n",
    "#Here we could pass a lambda function to the list’s sort method\n",
    "strings.sort(key=lambda x: len(set(x)))\n",
    "print(strings)"
   ]
  },
  {
   "cell_type": "markdown",
   "metadata": {},
   "source": [
    "# Naya Scene\n",
    "- Abhi problem kesa hai apna normal for loop ke saath hai ki boht lamba likha padta hai and hai irritating to work with lists and loops.\n",
    "- Alternate way is we use for loops **INSIDE** our lists. Yaad rakho aayega aage boht."
   ]
  },
  {
   "cell_type": "code",
   "execution_count": 32,
   "metadata": {},
   "outputs": [
    {
     "name": "stdout",
     "output_type": "stream",
     "text": [
      "['BAT', 'CAR', 'DOVE', 'PYTHON']\n"
     ]
    }
   ],
   "source": [
    "strings = [\"a\", \"as\", \"bat\", \"car\", \"dove\", \"python\"]\n",
    "new_list = [x.upper() for x in strings if len(x) > 2]\n",
    "print(new_list)\n",
    "#ekdum simple fruitful chu na?"
   ]
  },
  {
   "cell_type": "markdown",
   "metadata": {},
   "source": [
    "# Files and the Operating System\n",
    "- idk what ppl will say but dekho tum koi bhi dataset use karoge na jhak maarke os and file commands use karne hi padenge\n",
    "- not just this but zipping and stuff of datasets(big ones) are vital"
   ]
  },
  {
   "cell_type": "code",
   "execution_count": 34,
   "metadata": {},
   "outputs": [
    {
     "name": "stdout",
     "output_type": "stream",
     "text": [
      "Top Pop So\n",
      "b'Top Pop So'\n"
     ]
    }
   ],
   "source": [
    "path = \"top_pop_songs.txt\"\n",
    "f1 = open(path)\n",
    "print(f1.read(10))\n",
    "f2 = open(path, mode=\"rb\")  # Binary mode\n",
    "print(f2.read(10))"
   ]
  },
  {
   "cell_type": "code",
   "execution_count": 38,
   "metadata": {},
   "outputs": [
    {
     "name": "stdout",
     "output_type": "stream",
     "text": [
      "['Top Pop Songs of All Time', '', '1. \"Billie Jean\" - Michael Jackson (1982)', '   Note: One of Michael Jackson\\'s most iconic songs, \"Billie Jean\" helped propel the \"Thriller\" album to massive success.', '', '2. \"Like a Prayer\" - Madonna (1989)', '   Note: Known for its controversial music video and blend of pop and gospel, \"Like a Prayer\" remains one of Madonna\\'s most memorable hits.', '', '3. \"Rolling in the Deep\" - Adele (2010)', \"   Note: Adele's powerful vocals and the song's emotional depth earned it numerous awards and widespread acclaim.\", '', '4. \"I Want to Hold Your Hand\" - The Beatles (1963)', \"   Note: This song marked The Beatles' breakthrough in the United States and remains a classic in pop music history.\", '', '5. \"Uptown Funk\" - Mark Ronson ft. Bruno Mars (2014)', '   Note: A modern pop classic with a funky beat, \"Uptown Funk\" topped charts worldwide and became a party anthem.', '', '6. \"Blinding Lights\" - The Weeknd (2019)', '   Note: With its retro \\'80s vibe, \"Blinding Lights\" broke numerous records and became one of the defining songs of the decade.', '', '7. \"Dancing Queen\" - ABBA (1976)', '   Note: A timeless disco hit, \"Dancing Queen\" continues to be a favorite at parties and events around the world.', '', '8. \"Baby One More Time\" - Britney Spears (1998)', \"   Note: This debut single catapulted Britney Spears to pop stardom and remains a quintessential '90s pop song.\", '', '9. \"Shape of You\" - Ed Sheeran (2017)', '   Note: A global hit with its catchy melody and infectious rhythm, \"Shape of You\" dominated charts for months.', '', '10. \"Call Me Maybe\" - Carly Rae Jepsen (2011)', '    Note: This catchy tune became a viral sensation and a pop culture phenomenon, earning widespread acclaim.', '', '11. \"Hey Jude\" - The Beatles (1968)', '    Note: One of The Beatles\\' most enduring songs, \"Hey Jude\" is celebrated for its sing-along chorus and emotional resonance.', '', '12. \"Thriller\" - Michael Jackson (1982)', '    Note: Accompanied by an iconic music video, \"Thriller\" remains one of the best-selling singles of all time.', '', '13. \"All About That Bass\" - Meghan Trainor (2014)', '    Note: With its catchy hook and body-positive message, \"All About That Bass\" became a global hit.', '', '14. \"Happy\" - Pharrell Williams (2013)', '    Note: This upbeat and infectious song became an anthem of positivity, topping charts around the world.', '', '15. \"Someone Like You\" - Adele (2011)', '    Note: A heartfelt ballad showcasing Adele\\'s vocal prowess, \"Someone Like You\" resonated deeply with listeners.', '', 'End of List']\n"
     ]
    }
   ],
   "source": [
    "lines = [x.rstrip() for x in open(path, encoding=\"utf-8\")]\n",
    "print(lines)\n",
    "#Poora tera file print hogaya bhai. Aisa terko web scraping/ web data extraction and then converting into Dataset or relation finding mein ho sakta hai."
   ]
  },
  {
   "cell_type": "code",
   "execution_count": null,
   "metadata": {},
   "outputs": [],
   "source": []
  }
 ],
 "metadata": {
  "kernelspec": {
   "display_name": "Python 3",
   "language": "python",
   "name": "python3"
  },
  "language_info": {
   "codemirror_mode": {
    "name": "ipython",
    "version": 3
   },
   "file_extension": ".py",
   "mimetype": "text/x-python",
   "name": "python",
   "nbconvert_exporter": "python",
   "pygments_lexer": "ipython3",
   "version": "3.12.3"
  }
 },
 "nbformat": 4,
 "nbformat_minor": 2
}
