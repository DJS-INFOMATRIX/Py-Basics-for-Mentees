{
  "cells": [
    {
      "cell_type": "markdown",
      "metadata": {
        "colab_type": "text",
        "id": "view-in-github"
      },
      "source": [
        "<a href=\"https://colab.research.google.com/github/Royalrival/Antariksh/blob/main/lec1.ipynb\" target=\"_parent\"><img src=\"https://colab.research.google.com/assets/colab-badge.svg\" alt=\"Open In Colab\"/></a>"
      ]
    },
    {
      "cell_type": "code",
      "execution_count": 34,
      "metadata": {
        "colab": {
          "base_uri": "https://localhost:8080/"
        },
        "id": "IkO3lIqw13IB",
        "outputId": "346ddd84-45f5-462b-a6d1-b5ad83c8a8eb"
      },
      "outputs": [
        {
          "name": "stdout",
          "output_type": "stream",
          "text": [
            "15\n",
            "-1\n",
            "0.875\n",
            "7\n",
            "8\n",
            "15.0\n",
            "-2.0\n",
            "<class 'complex'>\n",
            "15.132745950421556\n"
          ]
        }
      ],
      "source": [
        "r=15-2j\n",
        "x=7\n",
        "y=8\n",
        "print(f\"{x+y}\\n{x-y}\\n{x/y}\\n{x%y}\\n{2**3}\")\n",
        "print(r.real)\n",
        "print(r.imag)\n",
        "print(type(r))\n",
        "b=abs(r)\n",
        "print(b)"
      ]
    },
    {
      "cell_type": "markdown",
      "metadata": {},
      "source": [
        "Lists"
      ]
    },
    {
      "cell_type": "code",
      "execution_count": 5,
      "metadata": {
        "colab": {
          "base_uri": "https://localhost:8080/"
        },
        "id": "ZhxNVHCW3VXU",
        "outputId": "67363f19-6a9b-4d1e-e2ee-4e8198721e51"
      },
      "outputs": [
        {
          "name": "stdout",
          "output_type": "stream",
          "text": [
            "[{'I': 'one'}, {'II': 'two'}, {'III': 'three'}, 'IV']\n",
            "two\n",
            "[{'I': 'one'}, {'II': 'two'}, {'III': 'three'}, '3.5']\n",
            "<class 'list'>\n",
            "['3.5', {'III': 'three'}, {'II': 'two'}, {'I': 'one'}]\n"
          ]
        }
      ],
      "source": [
        "list1 = [{'I': 'one'}, {'II': 'two'}, {'III': 'three'}]\n",
        "list1.append('IV')\n",
        "print(list1)\n",
        "list1.pop()\n",
        "#pops out last element\n",
        "print(list1[1]['II'])\n",
        "list1.insert(3,'3.5')\n",
        "#insert is used to inser element at an index\n",
        "print(list1)\n",
        "print(type(list1))\n",
        "list1.reverse()\n",
        "print(list1)\n"
      ]
    },
    {
      "cell_type": "markdown",
      "metadata": {},
      "source": [
        "Dictionaries"
      ]
    },
    {
      "cell_type": "code",
      "execution_count": 7,
      "metadata": {},
      "outputs": [
        {
          "name": "stdout",
          "output_type": "stream",
          "text": [
            "<class 'dict'>\n",
            "{'one': '1', '2': 'two', 'three': '3', 'IV': 'Four'}\n",
            "one corresponds to 1\n",
            "2 corresponds to two\n",
            "three corresponds to 3\n",
            "IV corresponds to Four\n",
            "dict_keys(['one', '2', 'three', 'IV'])\n",
            "dict_values(['1', 'two', '3', 'Four'])\n"
          ]
        }
      ],
      "source": [
        "tdict = dict([{'1', 'one'}, {'2', 'two'}, {'3', 'three'}])\n",
        "\n",
        "print(type(tdict))\n",
        "#dict keyword with bracket makes the list as dict\n",
        "tdict['IV']='Four'\n",
        "print(tdict)\n",
        "for key in tdict:\n",
        "  print(key, 'corresponds to',tdict[key])\n",
        "print(tdict.keys())\n",
        "print(tdict.values())"
      ]
    },
    {
      "cell_type": "code",
      "execution_count": 35,
      "metadata": {
        "colab": {
          "base_uri": "https://localhost:8080/",
          "height": 35
        },
        "id": "mRGstZ8r4iDf",
        "outputId": "2bcd2062-0ab1-4ceb-90f0-66508db829be"
      },
      "outputs": [],
      "source": [
        "# d2={'Kingdom':[{'Plantae':'Plants'},{'Animalia':'Animals'}],'Microbes':[{'Bacteria':'Lactobacillus'},{'Fungia':'Ringworm'}]}\n",
        "# d2['Kingdom'][1]['Animalia']"
      ]
    },
    {
      "cell_type": "code",
      "execution_count": 38,
      "metadata": {
        "colab": {
          "base_uri": "https://localhost:8080/"
        },
        "id": "UD6XharWAJrm",
        "outputId": "7187b395-5a6b-442c-8f2b-02471f55624a"
      },
      "outputs": [],
      "source": [
        "for key,value in d2.items():\n",
        "  print(key)\n",
        "  print(value)"
      ]
    },
    {
      "cell_type": "markdown",
      "metadata": {},
      "source": [
        "String"
      ]
    },
    {
      "cell_type": "code",
      "execution_count": 25,
      "metadata": {
        "colab": {
          "base_uri": "https://localhost:8080/"
        },
        "id": "gBuiaz32AmX_",
        "outputId": "5fd9eedf-2cf9-4021-f38e-5cf403b9a1be"
      },
      "outputs": [
        {
          "name": "stdout",
          "output_type": "stream",
          "text": [
            "3\n",
            "HELLO WORLD\n",
            "Hello world\n",
            "Hello World\n",
            "H.e.l.l.o. .W.o.r.l.d\n"
          ]
        }
      ],
      "source": [
        "str=\"Hello World\"\n",
        "print(str.count('l'))\n",
        "print(str.upper())\n",
        "print(str.replace('World','world'))\n",
        "print(str.title())\n",
        "print('.'.join(str))"
      ]
    },
    {
      "cell_type": "markdown",
      "metadata": {},
      "source": [
        "For Loops"
      ]
    },
    {
      "cell_type": "code",
      "execution_count": null,
      "metadata": {},
      "outputs": [],
      "source": [
        "lo=['Humans','Animals','Plants','Microbes']\n",
        "#for loop\n",
        "for i in lo:\n",
        "  print(i)\n",
        "#alternatively\n",
        "print(\"\\n\")\n",
        "for i in range(len(lo)):\n",
        "  print(lo[i])"
      ]
    },
    {
      "cell_type": "code",
      "execution_count": null,
      "metadata": {},
      "outputs": [],
      "source": [
        "for i in 'ABCDE':\n",
        "  #traversing through string\n",
        "  print(i)"
      ]
    },
    {
      "cell_type": "code",
      "execution_count": null,
      "metadata": {},
      "outputs": [],
      "source": [
        "for i in range(0,10,2):\n",
        "  #implementation of step\n",
        "  print(i)"
      ]
    },
    {
      "cell_type": "markdown",
      "metadata": {},
      "source": [
        "Slicing List"
      ]
    },
    {
      "cell_type": "code",
      "execution_count": 47,
      "metadata": {},
      "outputs": [
        {
          "name": "stdout",
          "output_type": "stream",
          "text": [
            "[10, 20, 30, 40, 50]\n",
            "[20, 30, 40, 50, 60]\n",
            "[10, 20, 30, 40, 50, 60]\n",
            "[60]\n",
            "[60, 50, 40, 30, 20, 10]\n"
          ]
        }
      ],
      "source": [
        "list3=[10,20,30,40,50,60]\n",
        "#Slicing the list\n",
        "print(list3[:5]) \n",
        "print(list3[1:])\n",
        "print(list3[::])\n",
        "print(list3[-1:])\n",
        "print(list3[::-1])"
      ]
    },
    {
      "cell_type": "code",
      "execution_count": null,
      "metadata": {},
      "outputs": [],
      "source": [
        "n=15\n",
        "sum=0\n",
        "while n!=0 :\n",
        "  d=n%10\n",
        "  sum=sum+d\n",
        "  n=n/10\n",
        "print(sum)"
      ]
    },
    {
      "cell_type": "code",
      "execution_count": null,
      "metadata": {},
      "outputs": [],
      "source": [
        "for i in range(10):\n",
        "  if(i==3):\n",
        "    continue\n",
        "  elif(i==9):\n",
        "    break\n",
        "  print(i)"
      ]
    },
    {
      "cell_type": "code",
      "execution_count": null,
      "metadata": {},
      "outputs": [],
      "source": [
        "# for i in range(1,5):\n",
        "#   for j in range(1,i+1):\n",
        "#     print(j,end=\"\")\n",
        "#   print(\"\\n\")"
      ]
    },
    {
      "cell_type": "markdown",
      "metadata": {},
      "source": [
        "Functions"
      ]
    },
    {
      "cell_type": "code",
      "execution_count": null,
      "metadata": {},
      "outputs": [],
      "source": [
        "def average(a,b,c):\n",
        "  return a+b+c\n",
        "res = average(3,7,9)\n",
        "print(res)"
      ]
    },
    {
      "cell_type": "code",
      "execution_count": 20,
      "metadata": {},
      "outputs": [
        {
          "name": "stdout",
          "output_type": "stream",
          "text": [
            "A\n",
            "B\n",
            "C\n",
            "45\n",
            "13\n",
            "54\n"
          ]
        }
      ],
      "source": [
        "def l1(*args):\n",
        "  for i in args:\n",
        "    print(i)\n",
        "#passing list as parameters in function\n",
        "#*args is used for accepting list\n",
        "l1('A','B','C',45,13,54)\n"
      ]
    },
    {
      "cell_type": "code",
      "execution_count": 21,
      "metadata": {},
      "outputs": [],
      "source": [
        "# def a(arg,*args):\n",
        "#   for i in args:\n",
        "#     print(i)\n",
        "#     print(arg)\n",
        "\n",
        "# a('O','A+','A','B+','B','C+','C')"
      ]
    },
    {
      "cell_type": "code",
      "execution_count": null,
      "metadata": {},
      "outputs": [],
      "source": [
        "def d1(**kwargs):\n",
        "  for key,value in kwargs.items():\n",
        "    print(\"key:\",key,\", value:\",value)\n",
        "d1(Asia=1,America=2,Europe=3,Antartica=4,Africa=5,Australia=6)"
      ]
    },
    {
      "cell_type": "code",
      "execution_count": 51,
      "metadata": {},
      "outputs": [
        {
          "name": "stdout",
          "output_type": "stream",
          "text": [
            "1331\n",
            "['a', 'B', 1, 2, 5]\n"
          ]
        }
      ],
      "source": [
        "def f1(n):\n",
        "  return lambda a : a ** n\n",
        "\n",
        "cubecalc = f1(3)\n",
        "#the lambda function property is used by other function hence cube function is formed\n",
        "print(cubecalc(11))\n",
        "\n",
        "# def f2(x):\n",
        "#   return lambda a : a[:x]\n",
        "# slicedlist= f2(5)\n",
        "# print(slicedlist(['a','B',1,2,5,'Z',10]))"
      ]
    }
  ],
  "metadata": {
    "colab": {
      "authorship_tag": "ABX9TyMW58LvTG52JIsVnKUu+/5G",
      "include_colab_link": true,
      "provenance": []
    },
    "kernelspec": {
      "display_name": "Python 3",
      "name": "python3"
    },
    "language_info": {
      "codemirror_mode": {
        "name": "ipython",
        "version": 3
      },
      "file_extension": ".py",
      "mimetype": "text/x-python",
      "name": "python",
      "nbconvert_exporter": "python",
      "pygments_lexer": "ipython3",
      "version": "3.11.3"
    }
  },
  "nbformat": 4,
  "nbformat_minor": 0
}
